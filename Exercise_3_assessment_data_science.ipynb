{
 "cells": [
  {
   "cell_type": "code",
   "execution_count": 4,
   "id": "c0a7305f",
   "metadata": {},
   "outputs": [
    {
     "name": "stdout",
     "output_type": "stream",
     "text": [
      "[[ 0.3 -0.1]\n",
      " [ 0.6 -0.2]\n",
      " [ 0.5 -0.5]]\n",
      "[[ 0.3 -0.1]\n",
      " [ 0.6 -0.2]\n",
      " [ 0.5 -0.5]]\n"
     ]
    }
   ],
   "source": [
    "import numpy as np\n",
    "\n",
    "def dotproduct1d(u,v):\n",
    "    A=np.zeros((len(u),len(v)))\n",
    "    for i in range(0,len(u)):\n",
    "        for j in range(0,len(v)):\n",
    "            A[i,j]=u[i]*v[j]\n",
    "    return A\n",
    "\n",
    "A=np.array([[1,2,-1],[1,2,-3]])\n",
    "U,S,Vt=np.linalg.svd(A)\n",
    "\n",
    "pinv=np.zeros((len(A[0,:]),len(A[:,0])))\n",
    "for i in range(0,len(S),1):\n",
    "    pinv = pinv + 1/S[i]*dotproduct1d(Vt[i,:],U[:,i])\n",
    "print(pinv)\n",
    "print(np.linalg.pinv(A))#comparing my pinv with linalg.pinv \n"
   ]
  }
 ],
 "metadata": {
  "kernelspec": {
   "display_name": "Python 3 (ipykernel)",
   "language": "python",
   "name": "python3"
  },
  "language_info": {
   "codemirror_mode": {
    "name": "ipython",
    "version": 3
   },
   "file_extension": ".py",
   "mimetype": "text/x-python",
   "name": "python",
   "nbconvert_exporter": "python",
   "pygments_lexer": "ipython3",
   "version": "3.9.13"
  }
 },
 "nbformat": 4,
 "nbformat_minor": 5
}
